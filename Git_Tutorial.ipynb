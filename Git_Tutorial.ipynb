{
 "cells": [
  {
   "cell_type": "markdown",
   "metadata": {},
   "source": [
    "## Crash course to Git\n",
    "\n",
    "### Git the first step to build reproducible experiments\n",
    "\n",
    "Our first focus is how to build reproducible experiments. The experiments are unique within ML lifecycle which rarely exists in regular software engineering world. In SE we mostly know what we want to build and how we should build it. But in ML, we should go over several rounds of experimentation to come up with the set of features, algorithms, and hyperparameters to come up with the best model. The experiment is a loop of sadness where we have a hypothesis, we test it, and then we evaluate how it performs. If it meets the requirements, then we're done, if not, we should repeat with the next best educated guess.\n",
    "\n",
    "In the ML world, the result of an experiment, is a machine learning model. A machine learning model is the result of a marriage between code and data with a set of hyperparameters that should be executed on a certain piece of hardware.\n",
    "In order to make this experiment reproducible, we need to be able to version or take snapshots of every component used to produce the model.\n",
    "\n",
    "First we start with versioning the code. One of the most powerful and popular source control technologies is Git. Git is built by the founder of Linux to develop Linux. Since then, it has gain popularity to the extent that is now probably the only technology used to version software projects. Git is a free to use on your development environment. There are several commercial git base repositories, such as GitHub, Azure DevOps, GitLab, BitBucket, etc. which also provide free tier to host your code.\n",
    "\n",
    "Now let's dive into the git commands!"
   ]
  },
  {
   "cell_type": "markdown",
   "metadata": {},
   "source": [
    "### Instructions for this tutorial\n",
    "\n",
    "To complete this tutorial, you need to open a VSCode, a file explorer and a command prompt."
   ]
  },
  {
   "cell_type": "code",
   "execution_count": 1,
   "metadata": {},
   "outputs": [
    {
     "name": "stdout",
     "output_type": "stream",
     "text": [
      ".\n",
      "..\n",
      ".DS_Store\n",
      ".git\n",
      ".gitignore\n",
      ".ipynb_checkpoints\n",
      "Git_Tutorial.ipynb\n",
      "inference.py\n",
      "training.py\n",
      "util.py\n"
     ]
    }
   ],
   "source": [
    "%%bash\n",
    "\n",
    "ls -ah"
   ]
  },
  {
   "cell_type": "code",
   "execution_count": 2,
   "metadata": {},
   "outputs": [],
   "source": [
    "%%bash\n",
    "\n",
    "# Initial setup for git\n",
    "git config --global user.email \"girish.sureshkumar@gmail.com\"\n",
    "git config --global user.name \"ramyagirish\""
   ]
  },
  {
   "cell_type": "markdown",
   "metadata": {},
   "source": [
    "Initializing the Git environment on your local computer"
   ]
  },
  {
   "cell_type": "code",
   "execution_count": 3,
   "metadata": {},
   "outputs": [
    {
     "name": "stdout",
     "output_type": "stream",
     "text": [
      "Reinitialized existing Git repository in /Users/ramyagirish/like_me/git_tutorial/.git/\n"
     ]
    }
   ],
   "source": [
    "%%bash\n",
    "\n",
    "git init"
   ]
  },
  {
   "cell_type": "code",
   "execution_count": 4,
   "metadata": {},
   "outputs": [
    {
     "name": "stdout",
     "output_type": "stream",
     "text": [
      ".\n",
      "..\n",
      ".DS_Store\n",
      ".git\n",
      ".ipynb_checkpoints\n",
      "Git_Tutorial.ipynb\n"
     ]
    }
   ],
   "source": [
    "%%bash\n",
    "\n",
    "ls -ah"
   ]
  },
  {
   "cell_type": "code",
   "execution_count": 5,
   "metadata": {},
   "outputs": [
    {
     "name": "stdout",
     "output_type": "stream",
     "text": [
      "ref: refs/heads/master\n"
     ]
    }
   ],
   "source": [
    "%%bash\n",
    "\n",
    "cat .git/HEAD"
   ]
  },
  {
   "cell_type": "code",
   "execution_count": 6,
   "metadata": {},
   "outputs": [
    {
     "name": "stdout",
     "output_type": "stream",
     "text": [
      "On branch master\n",
      "\n",
      "No commits yet\n",
      "\n",
      "Untracked files:\n",
      "  (use \"git add <file>...\" to include in what will be committed)\n",
      "\n",
      "\t.DS_Store\n",
      "\t.ipynb_checkpoints/\n",
      "\tGit_Tutorial.ipynb\n",
      "\n",
      "nothing added to commit but untracked files present (use \"git add\" to track)\n"
     ]
    }
   ],
   "source": [
    "%%bash\n",
    "\n",
    "git status"
   ]
  },
  {
   "cell_type": "markdown",
   "metadata": {},
   "source": [
    "### Git Ignore\n",
    "\n",
    "Creating .gitignore. This file instructs Git on what should be ignored from being tracked or staged."
   ]
  },
  {
   "cell_type": "code",
   "execution_count": 9,
   "metadata": {},
   "outputs": [
    {
     "name": "stdout",
     "output_type": "stream",
     "text": [
      "/.ipynb_checkpoints\n",
      "Git_Tutorial.ipynb\n",
      ".DS_Store\n",
      "*.csv\n"
     ]
    }
   ],
   "source": [
    "%%bash\n",
    "\n",
    "echo \"/.ipynb_checkpoints\" > .gitignore\n",
    "echo \"Git_Tutorial.ipynb\" >> .gitignore\n",
    "echo \".DS_Store\" >> .gitignore\n",
    "echo \"*.csv\" >> .gitignore\n",
    "cat .gitignore"
   ]
  },
  {
   "cell_type": "code",
   "execution_count": 10,
   "metadata": {},
   "outputs": [
    {
     "name": "stdout",
     "output_type": "stream",
     "text": [
      "On branch master\n",
      "\n",
      "No commits yet\n",
      "\n",
      "Untracked files:\n",
      "  (use \"git add <file>...\" to include in what will be committed)\n",
      "\n",
      "\t.gitignore\n",
      "\n",
      "nothing added to commit but untracked files present (use \"git add\" to track)\n"
     ]
    }
   ],
   "source": [
    "%%bash\n",
    "\n",
    "git status"
   ]
  },
  {
   "cell_type": "code",
   "execution_count": 11,
   "metadata": {},
   "outputs": [],
   "source": [
    "%%bash\n",
    "\n",
    "echo \"print('this is the training code!')\" > training.py"
   ]
  },
  {
   "cell_type": "code",
   "execution_count": 12,
   "metadata": {},
   "outputs": [
    {
     "name": "stdout",
     "output_type": "stream",
     "text": [
      "On branch master\n",
      "\n",
      "No commits yet\n",
      "\n",
      "Untracked files:\n",
      "  (use \"git add <file>...\" to include in what will be committed)\n",
      "\n",
      "\t.gitignore\n",
      "\ttraining.py\n",
      "\n",
      "nothing added to commit but untracked files present (use \"git add\" to track)\n"
     ]
    }
   ],
   "source": [
    "%%bash\n",
    "\n",
    "git status"
   ]
  },
  {
   "cell_type": "code",
   "execution_count": 13,
   "metadata": {},
   "outputs": [],
   "source": [
    "%%bash\n",
    "\n",
    "git add training.py\n",
    "\n",
    "# to add all files:\n",
    "# git add ."
   ]
  },
  {
   "cell_type": "code",
   "execution_count": 14,
   "metadata": {},
   "outputs": [
    {
     "name": "stdout",
     "output_type": "stream",
     "text": [
      "On branch master\n",
      "\n",
      "No commits yet\n",
      "\n",
      "Changes to be committed:\n",
      "  (use \"git rm --cached <file>...\" to unstage)\n",
      "\n",
      "\tnew file:   training.py\n",
      "\n",
      "Untracked files:\n",
      "  (use \"git add <file>...\" to include in what will be committed)\n",
      "\n",
      "\t.gitignore\n",
      "\n"
     ]
    }
   ],
   "source": [
    "%%bash\n",
    "\n",
    "git status"
   ]
  },
  {
   "cell_type": "code",
   "execution_count": 15,
   "metadata": {},
   "outputs": [
    {
     "name": "stdout",
     "output_type": "stream",
     "text": [
      "[master (root-commit) 0f18fe1] First commit!\n",
      " 1 file changed, 1 insertion(+)\n",
      " create mode 100644 training.py\n"
     ]
    }
   ],
   "source": [
    "%%bash\n",
    "\n",
    "git commit -m \"First commit!\""
   ]
  },
  {
   "cell_type": "code",
   "execution_count": 16,
   "metadata": {},
   "outputs": [
    {
     "name": "stdout",
     "output_type": "stream",
     "text": [
      "On branch master\n",
      "Untracked files:\n",
      "  (use \"git add <file>...\" to include in what will be committed)\n",
      "\n",
      "\t.gitignore\n",
      "\n",
      "nothing added to commit but untracked files present (use \"git add\" to track)\n"
     ]
    }
   ],
   "source": [
    "%%bash\n",
    "\n",
    "git status"
   ]
  },
  {
   "cell_type": "code",
   "execution_count": 17,
   "metadata": {},
   "outputs": [],
   "source": [
    "%%bash\n",
    "\n",
    "echo \"print('this is the inference code!')\" > inference.py"
   ]
  },
  {
   "cell_type": "code",
   "execution_count": 18,
   "metadata": {},
   "outputs": [
    {
     "name": "stdout",
     "output_type": "stream",
     "text": [
      "[master 42a9e1a] adding inference logic!\n",
      " 2 files changed, 5 insertions(+)\n",
      " create mode 100644 .gitignore\n",
      " create mode 100644 inference.py\n"
     ]
    }
   ],
   "source": [
    "%%bash\n",
    "\n",
    "git add .\n",
    "git commit -m \"adding inference logic!\""
   ]
  },
  {
   "cell_type": "code",
   "execution_count": 19,
   "metadata": {},
   "outputs": [
    {
     "name": "stdout",
     "output_type": "stream",
     "text": [
      "On branch master\n",
      "nothing to commit, working tree clean\n"
     ]
    }
   ],
   "source": [
    "%%bash \n",
    "\n",
    "git status"
   ]
  },
  {
   "cell_type": "code",
   "execution_count": 20,
   "metadata": {},
   "outputs": [
    {
     "name": "stdout",
     "output_type": "stream",
     "text": [
      "[master 4de60fb] Commit for random change {1..5..1}\n",
      " 1 file changed, 1 insertion(+)\n"
     ]
    }
   ],
   "source": [
    "%%bash\n",
    "\n",
    "for value in {1..5..1}\n",
    "do\n",
    "    echo \"print('Some random changes $value')\" >> training.py\n",
    "    git add training.py\n",
    "    git commit -m \"Commit for random change $value\"\n",
    "done\n"
   ]
  },
  {
   "cell_type": "code",
   "execution_count": 21,
   "metadata": {},
   "outputs": [],
   "source": [
    "%%bash\n",
    "\n",
    "for value in {1..5..1}\n",
    "do\n",
    "    echo \"print('Some random changes $value')\" >> training.py\n",
    "done"
   ]
  },
  {
   "cell_type": "code",
   "execution_count": 22,
   "metadata": {},
   "outputs": [
    {
     "name": "stdout",
     "output_type": "stream",
     "text": [
      "commit 4de60fb5b0eb33662d353c05927defb75fe9fdf6\n",
      "Author: ramyagirish <girish.sureshkumar@gmail.com>\n",
      "Date:   Thu Oct 17 16:02:32 2019 -0400\n",
      "\n",
      "    Commit for random change {1..5..1}\n",
      "\n",
      "commit 0f18fe175c9f6457702919267fd9a43e9f8a153d\n",
      "Author: ramyagirish <girish.sureshkumar@gmail.com>\n",
      "Date:   Thu Oct 17 16:00:15 2019 -0400\n",
      "\n",
      "    First commit!\n"
     ]
    }
   ],
   "source": [
    "%%bash\n",
    "\n",
    "git log training.py"
   ]
  },
  {
   "cell_type": "code",
   "execution_count": 23,
   "metadata": {},
   "outputs": [
    {
     "name": "stdout",
     "output_type": "stream",
     "text": [
      "commit 4de60fb5b0eb33662d353c05927defb75fe9fdf6\n",
      "Author: ramyagirish <girish.sureshkumar@gmail.com>\n",
      "Date:   Thu Oct 17 16:02:32 2019 -0400\n",
      "\n",
      "    Commit for random change {1..5..1}\n",
      "\n",
      "diff --git a/training.py b/training.py\n",
      "index 1d9e550..fa6b947 100644\n",
      "--- a/training.py\n",
      "+++ b/training.py\n",
      "@@ -1 +1,2 @@\n",
      " print('this is the training code!')\n",
      "+print('Some random changes {1..5..1}')\n",
      "\n",
      "commit 0f18fe175c9f6457702919267fd9a43e9f8a153d\n",
      "Author: ramyagirish <girish.sureshkumar@gmail.com>\n",
      "Date:   Thu Oct 17 16:00:15 2019 -0400\n",
      "\n",
      "    First commit!\n",
      "\n",
      "diff --git a/training.py b/training.py\n",
      "new file mode 100644\n",
      "index 0000000..1d9e550\n",
      "--- /dev/null\n",
      "+++ b/training.py\n",
      "@@ -0,0 +1 @@\n",
      "+print('this is the training code!')\n"
     ]
    }
   ],
   "source": [
    "%%bash\n",
    "\n",
    "git log --follow -p training.py"
   ]
  },
  {
   "cell_type": "code",
   "execution_count": 24,
   "metadata": {},
   "outputs": [
    {
     "name": "stdout",
     "output_type": "stream",
     "text": [
      "ref: refs/heads/master\n",
      "--------------------------\n",
      "* master\n"
     ]
    }
   ],
   "source": [
    "%%bash\n",
    "\n",
    "cat .git/HEAD\n",
    "echo \"--------------------------\"\n",
    "git branch -a\n"
   ]
  },
  {
   "cell_type": "markdown",
   "metadata": {},
   "source": [
    "### Link a Remote Repository to our Local Repository"
   ]
  },
  {
   "cell_type": "code",
   "execution_count": 25,
   "metadata": {},
   "outputs": [],
   "source": [
    "%%bash\n",
    "\n",
    "git remote add upstream https://github.com/ramyagirish/MLOps_workshop.git"
   ]
  },
  {
   "cell_type": "code",
   "execution_count": 26,
   "metadata": {},
   "outputs": [
    {
     "name": "stdout",
     "output_type": "stream",
     "text": [
      "Branch 'master' set up to track remote branch 'master' from 'upstream'.\n"
     ]
    },
    {
     "name": "stderr",
     "output_type": "stream",
     "text": [
      "To https://github.com/ramyagirish/MLOps_workshop.git\n",
      " * [new branch]      master -> master\n"
     ]
    }
   ],
   "source": [
    "%%bash\n",
    "git push -u upstream master"
   ]
  },
  {
   "cell_type": "markdown",
   "metadata": {},
   "source": [
    "### Git Issues\n",
    "\n",
    "Plan your project using GitHub Issues (alternatively you can use AzureDevOps Boards, Jira, ...). Associate commits to the issues and close them at Pull Request."
   ]
  },
  {
   "cell_type": "code",
   "execution_count": 27,
   "metadata": {},
   "outputs": [
    {
     "name": "stdout",
     "output_type": "stream",
     "text": [
      "On branch master\n",
      "Your branch is up to date with 'upstream/master'.\n",
      "\n",
      "Changes not staged for commit:\n",
      "  (use \"git add <file>...\" to update what will be committed)\n",
      "  (use \"git checkout -- <file>...\" to discard changes in working directory)\n",
      "\n",
      "\tmodified:   training.py\n",
      "\n",
      "no changes added to commit (use \"git add\" and/or \"git commit -a\")\n"
     ]
    }
   ],
   "source": [
    "%%bash\n",
    "\n",
    "git status"
   ]
  },
  {
   "cell_type": "code",
   "execution_count": 31,
   "metadata": {},
   "outputs": [],
   "source": [
    "%%bash\n",
    "\n",
    "git add ."
   ]
  },
  {
   "cell_type": "code",
   "execution_count": 32,
   "metadata": {},
   "outputs": [
    {
     "name": "stdout",
     "output_type": "stream",
     "text": [
      "[master 2b2d152] testing the issues #1\n",
      " 1 file changed, 4 insertions(+)\n"
     ]
    }
   ],
   "source": [
    "%%bash\n",
    "\n",
    "git commit -m \"testing the issues #1\""
   ]
  },
  {
   "cell_type": "code",
   "execution_count": 33,
   "metadata": {},
   "outputs": [
    {
     "name": "stderr",
     "output_type": "stream",
     "text": [
      "To https://github.com/ramyagirish/MLOps_workshop.git\n",
      "   4de60fb..2b2d152  master -> master\n"
     ]
    }
   ],
   "source": [
    "%%bash\n",
    "\n",
    "git push"
   ]
  },
  {
   "cell_type": "code",
   "execution_count": 34,
   "metadata": {},
   "outputs": [
    {
     "name": "stdout",
     "output_type": "stream",
     "text": [
      "On branch master\n",
      "Your branch is up to date with 'upstream/master'.\n",
      "\n",
      "Changes not staged for commit:\n",
      "  (use \"git add <file>...\" to update what will be committed)\n",
      "  (use \"git checkout -- <file>...\" to discard changes in working directory)\n",
      "\n",
      "\tmodified:   training.py\n",
      "\n",
      "no changes added to commit (use \"git add\" and/or \"git commit -a\")\n"
     ]
    }
   ],
   "source": [
    "%%bash\n",
    "\n",
    "git status"
   ]
  },
  {
   "cell_type": "code",
   "execution_count": 37,
   "metadata": {},
   "outputs": [],
   "source": [
    "%%bash\n",
    "\n",
    "git add . "
   ]
  },
  {
   "cell_type": "code",
   "execution_count": 38,
   "metadata": {},
   "outputs": [
    {
     "name": "stdout",
     "output_type": "stream",
     "text": [
      "[master ae10834] Resolved #1\n",
      " 1 file changed, 3 insertions(+), 1 deletion(-)\n"
     ]
    }
   ],
   "source": [
    "%%bash\n",
    "\n",
    "git commit -m \"Resolved #1\""
   ]
  },
  {
   "cell_type": "code",
   "execution_count": 39,
   "metadata": {},
   "outputs": [
    {
     "name": "stderr",
     "output_type": "stream",
     "text": [
      "To https://github.com/ramyagirish/MLOps_workshop.git\n",
      "   2b2d152..ae10834  master -> master\n"
     ]
    }
   ],
   "source": [
    "%%bash\n",
    "\n",
    "git push"
   ]
  },
  {
   "cell_type": "markdown",
   "metadata": {},
   "source": [
    "### Branches\n",
    "\n",
    "For every new change or feature, there should be a new branch aka freature branch."
   ]
  },
  {
   "cell_type": "code",
   "execution_count": 4,
   "metadata": {},
   "outputs": [
    {
     "name": "stdout",
     "output_type": "stream",
     "text": [
      "-- Listing branches --\n",
      "* hyp-tuning-bo\n",
      "  hyperparameter-tuning\n",
      "  master\n",
      "  remotes/upstream/hyp-tuning-bo\n",
      "  remotes/upstream/hyperparameter-tuning\n",
      "  remotes/upstream/master\n"
     ]
    }
   ],
   "source": [
    "%%bash\n",
    "echo \"-- Listing branches --\"\n",
    "\n",
    "git branch -a"
   ]
  },
  {
   "cell_type": "code",
   "execution_count": 41,
   "metadata": {},
   "outputs": [],
   "source": [
    "%%bash\n",
    "\n",
    "git branch hyperparameter-tuning"
   ]
  },
  {
   "cell_type": "code",
   "execution_count": 42,
   "metadata": {},
   "outputs": [
    {
     "name": "stdout",
     "output_type": "stream",
     "text": [
      "On branch master\n",
      "Your branch is up to date with 'upstream/master'.\n",
      "\n",
      "nothing to commit, working tree clean\n"
     ]
    }
   ],
   "source": [
    "%%bash\n",
    "git status"
   ]
  },
  {
   "cell_type": "code",
   "execution_count": 43,
   "metadata": {},
   "outputs": [
    {
     "name": "stderr",
     "output_type": "stream",
     "text": [
      "Switched to branch 'hyperparameter-tuning'\n"
     ]
    }
   ],
   "source": [
    "%%bash\n",
    "git checkout hyperparameter-tuning"
   ]
  },
  {
   "cell_type": "code",
   "execution_count": 44,
   "metadata": {},
   "outputs": [
    {
     "name": "stdout",
     "output_type": "stream",
     "text": [
      "On branch hyperparameter-tuning\n",
      "nothing to commit, working tree clean\n"
     ]
    }
   ],
   "source": [
    "%%bash\n",
    "git status"
   ]
  },
  {
   "cell_type": "code",
   "execution_count": 45,
   "metadata": {},
   "outputs": [],
   "source": [
    "%%bash\n",
    "\n",
    "echo \"print('Added the Hyperparameter Tuning to the training code')\" >> training.py\n",
    "# echo \"print('Added the Hyperparameter Tuning to the training code')\" > inference.py"
   ]
  },
  {
   "cell_type": "code",
   "execution_count": 46,
   "metadata": {},
   "outputs": [],
   "source": [
    "%%bash\n",
    "\n",
    "echo \"print('This is the util function second time')\" > util.py\n",
    "git add ."
   ]
  },
  {
   "cell_type": "code",
   "execution_count": 47,
   "metadata": {},
   "outputs": [
    {
     "name": "stdout",
     "output_type": "stream",
     "text": [
      "[hyperparameter-tuning aa72745] Added the hyperparameter tuning\n",
      " 2 files changed, 2 insertions(+), 1 deletion(-)\n",
      " create mode 100644 util.py\n"
     ]
    }
   ],
   "source": [
    "%%bash\n",
    "\n",
    "git commit -m 'Added the hyperparameter tuning'"
   ]
  },
  {
   "cell_type": "code",
   "execution_count": 48,
   "metadata": {},
   "outputs": [
    {
     "name": "stdout",
     "output_type": "stream",
     "text": [
      "Your branch is up to date with 'upstream/master'.\n"
     ]
    },
    {
     "name": "stderr",
     "output_type": "stream",
     "text": [
      "Switched to branch 'master'\n"
     ]
    }
   ],
   "source": [
    "%%bash\n",
    "\n",
    "git checkout master"
   ]
  },
  {
   "cell_type": "code",
   "execution_count": 49,
   "metadata": {},
   "outputs": [
    {
     "name": "stderr",
     "output_type": "stream",
     "text": [
      "Switched to branch 'hyperparameter-tuning'\n"
     ]
    }
   ],
   "source": [
    "%%bash\n",
    "\n",
    "git checkout hyperparameter-tuning"
   ]
  },
  {
   "cell_type": "code",
   "execution_count": 50,
   "metadata": {},
   "outputs": [
    {
     "name": "stderr",
     "output_type": "stream",
     "text": [
      "fatal: No configured push destination.\n",
      "Either specify the URL from the command-line or configure a remote repository using\n",
      "\n",
      "    git remote add <name> <url>\n",
      "\n",
      "and then push using the remote name\n",
      "\n",
      "    git push <name>\n",
      "\n"
     ]
    },
    {
     "ename": "CalledProcessError",
     "evalue": "Command 'b'\\ngit push \\n'' returned non-zero exit status 128.",
     "output_type": "error",
     "traceback": [
      "\u001b[0;31m---------------------------------------------------------------------------\u001b[0m",
      "\u001b[0;31mCalledProcessError\u001b[0m                        Traceback (most recent call last)",
      "\u001b[0;32m<ipython-input-50-2d486b05c322>\u001b[0m in \u001b[0;36m<module>\u001b[0;34m\u001b[0m\n\u001b[0;32m----> 1\u001b[0;31m \u001b[0mget_ipython\u001b[0m\u001b[0;34m(\u001b[0m\u001b[0;34m)\u001b[0m\u001b[0;34m.\u001b[0m\u001b[0mrun_cell_magic\u001b[0m\u001b[0;34m(\u001b[0m\u001b[0;34m'bash'\u001b[0m\u001b[0;34m,\u001b[0m \u001b[0;34m''\u001b[0m\u001b[0;34m,\u001b[0m \u001b[0;34m'\\ngit push \\n'\u001b[0m\u001b[0;34m)\u001b[0m\u001b[0;34m\u001b[0m\u001b[0;34m\u001b[0m\u001b[0m\n\u001b[0m",
      "\u001b[0;32m/anaconda3/envs/nlp_chillwall/lib/python3.6/site-packages/IPython/core/interactiveshell.py\u001b[0m in \u001b[0;36mrun_cell_magic\u001b[0;34m(self, magic_name, line, cell)\u001b[0m\n\u001b[1;32m   2357\u001b[0m             \u001b[0;32mwith\u001b[0m \u001b[0mself\u001b[0m\u001b[0;34m.\u001b[0m\u001b[0mbuiltin_trap\u001b[0m\u001b[0;34m:\u001b[0m\u001b[0;34m\u001b[0m\u001b[0;34m\u001b[0m\u001b[0m\n\u001b[1;32m   2358\u001b[0m                 \u001b[0margs\u001b[0m \u001b[0;34m=\u001b[0m \u001b[0;34m(\u001b[0m\u001b[0mmagic_arg_s\u001b[0m\u001b[0;34m,\u001b[0m \u001b[0mcell\u001b[0m\u001b[0;34m)\u001b[0m\u001b[0;34m\u001b[0m\u001b[0;34m\u001b[0m\u001b[0m\n\u001b[0;32m-> 2359\u001b[0;31m                 \u001b[0mresult\u001b[0m \u001b[0;34m=\u001b[0m \u001b[0mfn\u001b[0m\u001b[0;34m(\u001b[0m\u001b[0;34m*\u001b[0m\u001b[0margs\u001b[0m\u001b[0;34m,\u001b[0m \u001b[0;34m**\u001b[0m\u001b[0mkwargs\u001b[0m\u001b[0;34m)\u001b[0m\u001b[0;34m\u001b[0m\u001b[0;34m\u001b[0m\u001b[0m\n\u001b[0m\u001b[1;32m   2360\u001b[0m             \u001b[0;32mreturn\u001b[0m \u001b[0mresult\u001b[0m\u001b[0;34m\u001b[0m\u001b[0;34m\u001b[0m\u001b[0m\n\u001b[1;32m   2361\u001b[0m \u001b[0;34m\u001b[0m\u001b[0m\n",
      "\u001b[0;32m/anaconda3/envs/nlp_chillwall/lib/python3.6/site-packages/IPython/core/magics/script.py\u001b[0m in \u001b[0;36mnamed_script_magic\u001b[0;34m(line, cell)\u001b[0m\n\u001b[1;32m    140\u001b[0m             \u001b[0;32melse\u001b[0m\u001b[0;34m:\u001b[0m\u001b[0;34m\u001b[0m\u001b[0;34m\u001b[0m\u001b[0m\n\u001b[1;32m    141\u001b[0m                 \u001b[0mline\u001b[0m \u001b[0;34m=\u001b[0m \u001b[0mscript\u001b[0m\u001b[0;34m\u001b[0m\u001b[0;34m\u001b[0m\u001b[0m\n\u001b[0;32m--> 142\u001b[0;31m             \u001b[0;32mreturn\u001b[0m \u001b[0mself\u001b[0m\u001b[0;34m.\u001b[0m\u001b[0mshebang\u001b[0m\u001b[0;34m(\u001b[0m\u001b[0mline\u001b[0m\u001b[0;34m,\u001b[0m \u001b[0mcell\u001b[0m\u001b[0;34m)\u001b[0m\u001b[0;34m\u001b[0m\u001b[0;34m\u001b[0m\u001b[0m\n\u001b[0m\u001b[1;32m    143\u001b[0m \u001b[0;34m\u001b[0m\u001b[0m\n\u001b[1;32m    144\u001b[0m         \u001b[0;31m# write a basic docstring:\u001b[0m\u001b[0;34m\u001b[0m\u001b[0;34m\u001b[0m\u001b[0;34m\u001b[0m\u001b[0m\n",
      "\u001b[0;32m</anaconda3/envs/nlp_chillwall/lib/python3.6/site-packages/decorator.py:decorator-gen-110>\u001b[0m in \u001b[0;36mshebang\u001b[0;34m(self, line, cell)\u001b[0m\n",
      "\u001b[0;32m/anaconda3/envs/nlp_chillwall/lib/python3.6/site-packages/IPython/core/magic.py\u001b[0m in \u001b[0;36m<lambda>\u001b[0;34m(f, *a, **k)\u001b[0m\n\u001b[1;32m    185\u001b[0m     \u001b[0;31m# but it's overkill for just that one bit of state.\u001b[0m\u001b[0;34m\u001b[0m\u001b[0;34m\u001b[0m\u001b[0;34m\u001b[0m\u001b[0m\n\u001b[1;32m    186\u001b[0m     \u001b[0;32mdef\u001b[0m \u001b[0mmagic_deco\u001b[0m\u001b[0;34m(\u001b[0m\u001b[0marg\u001b[0m\u001b[0;34m)\u001b[0m\u001b[0;34m:\u001b[0m\u001b[0;34m\u001b[0m\u001b[0;34m\u001b[0m\u001b[0m\n\u001b[0;32m--> 187\u001b[0;31m         \u001b[0mcall\u001b[0m \u001b[0;34m=\u001b[0m \u001b[0;32mlambda\u001b[0m \u001b[0mf\u001b[0m\u001b[0;34m,\u001b[0m \u001b[0;34m*\u001b[0m\u001b[0ma\u001b[0m\u001b[0;34m,\u001b[0m \u001b[0;34m**\u001b[0m\u001b[0mk\u001b[0m\u001b[0;34m:\u001b[0m \u001b[0mf\u001b[0m\u001b[0;34m(\u001b[0m\u001b[0;34m*\u001b[0m\u001b[0ma\u001b[0m\u001b[0;34m,\u001b[0m \u001b[0;34m**\u001b[0m\u001b[0mk\u001b[0m\u001b[0;34m)\u001b[0m\u001b[0;34m\u001b[0m\u001b[0;34m\u001b[0m\u001b[0m\n\u001b[0m\u001b[1;32m    188\u001b[0m \u001b[0;34m\u001b[0m\u001b[0m\n\u001b[1;32m    189\u001b[0m         \u001b[0;32mif\u001b[0m \u001b[0mcallable\u001b[0m\u001b[0;34m(\u001b[0m\u001b[0marg\u001b[0m\u001b[0;34m)\u001b[0m\u001b[0;34m:\u001b[0m\u001b[0;34m\u001b[0m\u001b[0;34m\u001b[0m\u001b[0m\n",
      "\u001b[0;32m/anaconda3/envs/nlp_chillwall/lib/python3.6/site-packages/IPython/core/magics/script.py\u001b[0m in \u001b[0;36mshebang\u001b[0;34m(self, line, cell)\u001b[0m\n\u001b[1;32m    243\u001b[0m             \u001b[0msys\u001b[0m\u001b[0;34m.\u001b[0m\u001b[0mstderr\u001b[0m\u001b[0;34m.\u001b[0m\u001b[0mflush\u001b[0m\u001b[0;34m(\u001b[0m\u001b[0;34m)\u001b[0m\u001b[0;34m\u001b[0m\u001b[0;34m\u001b[0m\u001b[0m\n\u001b[1;32m    244\u001b[0m         \u001b[0;32mif\u001b[0m \u001b[0margs\u001b[0m\u001b[0;34m.\u001b[0m\u001b[0mraise_error\u001b[0m \u001b[0;32mand\u001b[0m \u001b[0mp\u001b[0m\u001b[0;34m.\u001b[0m\u001b[0mreturncode\u001b[0m\u001b[0;34m!=\u001b[0m\u001b[0;36m0\u001b[0m\u001b[0;34m:\u001b[0m\u001b[0;34m\u001b[0m\u001b[0;34m\u001b[0m\u001b[0m\n\u001b[0;32m--> 245\u001b[0;31m             \u001b[0;32mraise\u001b[0m \u001b[0mCalledProcessError\u001b[0m\u001b[0;34m(\u001b[0m\u001b[0mp\u001b[0m\u001b[0;34m.\u001b[0m\u001b[0mreturncode\u001b[0m\u001b[0;34m,\u001b[0m \u001b[0mcell\u001b[0m\u001b[0;34m,\u001b[0m \u001b[0moutput\u001b[0m\u001b[0;34m=\u001b[0m\u001b[0mout\u001b[0m\u001b[0;34m,\u001b[0m \u001b[0mstderr\u001b[0m\u001b[0;34m=\u001b[0m\u001b[0merr\u001b[0m\u001b[0;34m)\u001b[0m\u001b[0;34m\u001b[0m\u001b[0;34m\u001b[0m\u001b[0m\n\u001b[0m\u001b[1;32m    246\u001b[0m \u001b[0;34m\u001b[0m\u001b[0m\n\u001b[1;32m    247\u001b[0m     \u001b[0;32mdef\u001b[0m \u001b[0m_run_script\u001b[0m\u001b[0;34m(\u001b[0m\u001b[0mself\u001b[0m\u001b[0;34m,\u001b[0m \u001b[0mp\u001b[0m\u001b[0;34m,\u001b[0m \u001b[0mcell\u001b[0m\u001b[0;34m,\u001b[0m \u001b[0mto_close\u001b[0m\u001b[0;34m)\u001b[0m\u001b[0;34m:\u001b[0m\u001b[0;34m\u001b[0m\u001b[0;34m\u001b[0m\u001b[0m\n",
      "\u001b[0;31mCalledProcessError\u001b[0m: Command 'b'\\ngit push \\n'' returned non-zero exit status 128."
     ]
    }
   ],
   "source": [
    "%%bash\n",
    "\n",
    "git push "
   ]
  },
  {
   "cell_type": "markdown",
   "metadata": {},
   "source": [
    "### Add remote make this branch a tracking branch"
   ]
  },
  {
   "cell_type": "code",
   "execution_count": 51,
   "metadata": {},
   "outputs": [
    {
     "name": "stdout",
     "output_type": "stream",
     "text": [
      "Branch 'hyperparameter-tuning' set up to track remote branch 'hyperparameter-tuning' from 'upstream'.\n"
     ]
    },
    {
     "name": "stderr",
     "output_type": "stream",
     "text": [
      "remote: \n",
      "remote: Create a pull request for 'hyperparameter-tuning' on GitHub by visiting:        \n",
      "remote:      https://github.com/ramyagirish/MLOps_workshop/pull/new/hyperparameter-tuning        \n",
      "remote: \n",
      "To https://github.com/ramyagirish/MLOps_workshop.git\n",
      " * [new branch]      hyperparameter-tuning -> hyperparameter-tuning\n"
     ]
    }
   ],
   "source": [
    "%%bash\n",
    "\n",
    "git push --set-upstream upstream hyperparameter-tuning"
   ]
  },
  {
   "cell_type": "markdown",
   "metadata": {},
   "source": [
    "### Merge the NEW branch into the MASTER branch"
   ]
  },
  {
   "cell_type": "code",
   "execution_count": 52,
   "metadata": {},
   "outputs": [
    {
     "name": "stdout",
     "output_type": "stream",
     "text": [
      "Your branch is up to date with 'upstream/master'.\n"
     ]
    },
    {
     "name": "stderr",
     "output_type": "stream",
     "text": [
      "Switched to branch 'master'\n"
     ]
    }
   ],
   "source": [
    "%%bash\n",
    "\n",
    "git checkout master"
   ]
  },
  {
   "cell_type": "code",
   "execution_count": 53,
   "metadata": {},
   "outputs": [
    {
     "name": "stdout",
     "output_type": "stream",
     "text": [
      "Merge made by the 'recursive' strategy.\n",
      " training.py | 2 +-\n",
      " util.py     | 1 +\n",
      " 2 files changed, 2 insertions(+), 1 deletion(-)\n",
      " create mode 100644 util.py\n"
     ]
    }
   ],
   "source": [
    "%%bash\n",
    "\n",
    "git merge --no-ff hyperparameter-tuning"
   ]
  },
  {
   "cell_type": "code",
   "execution_count": 54,
   "metadata": {},
   "outputs": [
    {
     "name": "stderr",
     "output_type": "stream",
     "text": [
      "To https://github.com/ramyagirish/MLOps_workshop.git\n",
      "   ae10834..1564e0e  master -> master\n"
     ]
    }
   ],
   "source": [
    "%%bash\n",
    "\n",
    "git push"
   ]
  },
  {
   "cell_type": "code",
   "execution_count": 55,
   "metadata": {},
   "outputs": [
    {
     "name": "stderr",
     "output_type": "stream",
     "text": [
      "Switched to a new branch 'hyp-tuning-bo'\n"
     ]
    }
   ],
   "source": [
    "%%bash\n",
    "\n",
    "git checkout -b hyp-tuning-bo"
   ]
  },
  {
   "cell_type": "code",
   "execution_count": 56,
   "metadata": {},
   "outputs": [],
   "source": [
    "%%bash\n",
    "\n",
    "echo \"\"  >> training.py\n",
    "echo \"print('Hyperparameter Tuning Bayesian Optimization')\" >> training.py\n",
    "echo \"\"  >> training.py\n",
    "for value in {1..5..1}\n",
    "do\n",
    "    echo \"print('Some random changes $value')\" >> training.py\n",
    "done"
   ]
  },
  {
   "cell_type": "code",
   "execution_count": 57,
   "metadata": {},
   "outputs": [],
   "source": [
    "%%bash\n",
    "\n",
    "echo \"\" >> training.py\n",
    "echo \"print('Hyperparameter Tuning Bayesian Optimization - Completed')\" >> training.py"
   ]
  },
  {
   "cell_type": "code",
   "execution_count": 58,
   "metadata": {},
   "outputs": [
    {
     "name": "stdout",
     "output_type": "stream",
     "text": [
      "[hyp-tuning-bo d9b4a0f] Updgraded HT with Bayesian Optimization\n",
      " 1 file changed, 6 insertions(+)\n"
     ]
    }
   ],
   "source": [
    "%%bash\n",
    "\n",
    "git add .\n",
    "git commit -m \"Updgraded HT with Bayesian Optimization\""
   ]
  },
  {
   "cell_type": "code",
   "execution_count": 59,
   "metadata": {},
   "outputs": [
    {
     "name": "stdout",
     "output_type": "stream",
     "text": [
      "Branch 'hyp-tuning-bo' set up to track remote branch 'hyp-tuning-bo' from 'upstream'.\n"
     ]
    },
    {
     "name": "stderr",
     "output_type": "stream",
     "text": [
      "remote: \n",
      "remote: Create a pull request for 'hyp-tuning-bo' on GitHub by visiting:        \n",
      "remote:      https://github.com/ramyagirish/MLOps_workshop/pull/new/hyp-tuning-bo        \n",
      "remote: \n",
      "To https://github.com/ramyagirish/MLOps_workshop.git\n",
      " * [new branch]      hyp-tuning-bo -> hyp-tuning-bo\n"
     ]
    }
   ],
   "source": [
    "%%bash\n",
    "\n",
    "git push --set-upstream upstream hyp-tuning-bo"
   ]
  },
  {
   "cell_type": "code",
   "execution_count": 60,
   "metadata": {},
   "outputs": [
    {
     "name": "stdout",
     "output_type": "stream",
     "text": [
      "[core]\n",
      "\trepositoryformatversion = 0\n",
      "\tfilemode = true\n",
      "\tbare = false\n",
      "\tlogallrefupdates = true\n",
      "\tignorecase = true\n",
      "\tprecomposeunicode = true\n",
      "[remote \"upstream\"]\n",
      "\turl = https://github.com/ramyagirish/MLOps_workshop.git\n",
      "\tfetch = +refs/heads/*:refs/remotes/upstream/*\n",
      "[branch \"master\"]\n",
      "\tremote = upstream\n",
      "\tmerge = refs/heads/master\n",
      "[branch \"hyperparameter-tuning\"]\n",
      "\tremote = upstream\n",
      "\tmerge = refs/heads/hyperparameter-tuning\n",
      "[branch \"hyp-tuning-bo\"]\n",
      "\tremote = upstream\n",
      "\tmerge = refs/heads/hyp-tuning-bo\n"
     ]
    }
   ],
   "source": [
    "%%bash\n",
    "\n",
    "cat .git/config"
   ]
  },
  {
   "cell_type": "markdown",
   "metadata": {},
   "source": [
    "### Resolve Conflicts"
   ]
  },
  {
   "cell_type": "markdown",
   "metadata": {},
   "source": [
    "### Create branch from another branch"
   ]
  },
  {
   "cell_type": "code",
   "execution_count": null,
   "metadata": {},
   "outputs": [],
   "source": [
    "%%bash\n",
    "\n",
    "git checkout -b hyp-tuning-bo-ext hyp-tuning-bo"
   ]
  },
  {
   "cell_type": "code",
   "execution_count": null,
   "metadata": {},
   "outputs": [],
   "source": [
    "%%bash\n",
    "\n",
    "echo \"\" >> training.py\n",
    "echo \"print('Hyperparameter Tuning Bayesian Optimization EXTENDED - Completed')\" >> training.py"
   ]
  },
  {
   "cell_type": "code",
   "execution_count": null,
   "metadata": {},
   "outputs": [],
   "source": [
    "%%bash\n",
    "\n",
    "git add .\n",
    "git commit -m \"Extended HT with Bayesian Optimization Completed\""
   ]
  },
  {
   "cell_type": "code",
   "execution_count": null,
   "metadata": {},
   "outputs": [],
   "source": [
    "%%bash\n",
    "\n",
    "git push --set-upstream upstream hyp-tuning-bo-ext"
   ]
  },
  {
   "cell_type": "markdown",
   "metadata": {},
   "source": [
    "### Pull Request\n",
    "\n",
    "Master/Another Branch <============= Feature Branch"
   ]
  },
  {
   "cell_type": "markdown",
   "metadata": {},
   "source": [
    "### Git Graph"
   ]
  },
  {
   "cell_type": "code",
   "execution_count": 64,
   "metadata": {},
   "outputs": [
    {
     "name": "stdout",
     "output_type": "stream",
     "text": [
      "* d9b4a0f Updgraded HT with Bayesian Optimization\n",
      "*   1564e0e Merge branch 'hyperparameter-tuning'\n",
      "|\\  \n",
      "| * aa72745 Added the hyperparameter tuning\n",
      "|/  \n",
      "* ae10834 Resolved #1\n",
      "* 2b2d152 testing the issues #1\n",
      "* 4de60fb Commit for random change {1..5..1}\n",
      "* 42a9e1a adding inference logic!\n",
      "* 0f18fe1 First commit!\n"
     ]
    }
   ],
   "source": [
    "%%bash\n",
    "\n",
    "git log --oneline --graph"
   ]
  },
  {
   "cell_type": "markdown",
   "metadata": {},
   "source": [
    "### Git Graph VSCode Extension"
   ]
  },
  {
   "cell_type": "code",
   "execution_count": 61,
   "metadata": {},
   "outputs": [
    {
     "name": "stdout",
     "output_type": "stream",
     "text": [
      "d9b4a0f Updgraded HT with Bayesian Optimization\n",
      "1564e0e Merge branch 'hyperparameter-tuning'\n",
      "aa72745 Added the hyperparameter tuning\n",
      "ae10834 Resolved #1\n",
      "2b2d152 testing the issues #1\n",
      "4de60fb Commit for random change {1..5..1}\n",
      "42a9e1a adding inference logic!\n",
      "0f18fe1 First commit!\n"
     ]
    }
   ],
   "source": [
    "%%bash\n",
    "git log --oneline"
   ]
  },
  {
   "cell_type": "code",
   "execution_count": 62,
   "metadata": {
    "scrolled": false
   },
   "outputs": [
    {
     "name": "stdout",
     "output_type": "stream",
     "text": [
      "commit aa72745210342d3daac0e8b94cb614cd004d8827\n",
      "Author: ramyagirish <girish.sureshkumar@gmail.com>\n",
      "Date:   Thu Oct 17 20:02:52 2019 -0400\n",
      "\n",
      "    Added the hyperparameter tuning\n",
      "\n",
      "diff --git a/training.py b/training.py\n",
      "index b6f5c84..f243b55 100644\n",
      "--- a/training.py\n",
      "+++ b/training.py\n",
      "@@ -5,4 +5,4 @@ print('Some random changes {1..5..1}')\n",
      " \n",
      " print('testing issues')\n",
      " \n",
      "-print('closing the issues')\n",
      "\\ No newline at end of file\n",
      "+print('closing the issues')print('Added the Hyperparameter Tuning to the training code')\n",
      "diff --git a/util.py b/util.py\n",
      "new file mode 100644\n",
      "index 0000000..a2f0d45\n",
      "--- /dev/null\n",
      "+++ b/util.py\n",
      "@@ -0,0 +1 @@\n",
      "+print('This is the util function second time')\n"
     ]
    }
   ],
   "source": [
    "%%bash\n",
    "git show hyperparameter-tuning"
   ]
  },
  {
   "cell_type": "code",
   "execution_count": 63,
   "metadata": {},
   "outputs": [
    {
     "name": "stdout",
     "output_type": "stream",
     "text": [
      "commit d9b4a0f413bcdbdb846a75f2203eb78c30d7bc7d\n",
      "Author: ramyagirish <girish.sureshkumar@gmail.com>\n",
      "Date:   Thu Oct 17 20:19:34 2019 -0400\n",
      "\n",
      "    Updgraded HT with Bayesian Optimization\n"
     ]
    }
   ],
   "source": [
    "%%bash\n",
    "git log -1"
   ]
  },
  {
   "cell_type": "markdown",
   "metadata": {},
   "source": [
    "### Create Continue Integration (CI) Pipeline\n",
    "\n",
    "* Add requirements.txt\n",
    "* Add a simple unit test\n",
    "* Create an Azure DevOps project (instructions are in the Deck)\n",
    "* Create a DevOps pipeline (instructions are in the Deck)"
   ]
  },
  {
   "cell_type": "code",
   "execution_count": null,
   "metadata": {},
   "outputs": [],
   "source": [
    "##bash\n",
    "\n",
    "echo \"\" >> requirements.txt"
   ]
  },
  {
   "cell_type": "code",
   "execution_count": null,
   "metadata": {},
   "outputs": [],
   "source": [
    "%%bash\n",
    "\n",
    "mkdir tests"
   ]
  },
  {
   "cell_type": "code",
   "execution_count": null,
   "metadata": {},
   "outputs": [],
   "source": [
    "%%bash\n",
    "\n",
    "echo \"def test_example6():\" > tests/my_unit_tests.py\n",
    "echo \"   assert 3 == 3\" >> tests/my_unit_tests.py"
   ]
  },
  {
   "cell_type": "markdown",
   "metadata": {},
   "source": [
    "### Homework\n",
    "\n",
    "* Create a repo with Master, Release and Development Branches.\n",
    "* Create separate Build Pipelines for Pull Request into each of the defined branches\n",
    "* Add the Azure DevOps pipeline badge for the github repo\n",
    "* Add a new failed test e.g. (assert 1==2) to observe how the pipeline fails"
   ]
  },
  {
   "cell_type": "code",
   "execution_count": null,
   "metadata": {},
   "outputs": [],
   "source": []
  }
 ],
 "metadata": {
  "kernelspec": {
   "display_name": "Python 3",
   "language": "python",
   "name": "python3"
  },
  "language_info": {
   "codemirror_mode": {
    "name": "ipython",
    "version": 3
   },
   "file_extension": ".py",
   "mimetype": "text/x-python",
   "name": "python",
   "nbconvert_exporter": "python",
   "pygments_lexer": "ipython3",
   "version": "3.6.8"
  }
 },
 "nbformat": 4,
 "nbformat_minor": 2
}
